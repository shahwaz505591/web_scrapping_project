{
 "cells": [
  {
   "cell_type": "code",
   "execution_count": 1,
   "id": "5fcea3ed-1e5f-4574-8c7c-0e7bfbfb1f3e",
   "metadata": {},
   "outputs": [],
   "source": [
    "import requests\n",
    "from bs4 import BeautifulSoup as bs\n",
    "from urllib.request import urlopen  "
   ]
  },
  {
   "cell_type": "code",
   "execution_count": 2,
   "id": "b3e18e5f-a5ea-479d-926d-a872a4251e3d",
   "metadata": {},
   "outputs": [],
   "source": [
    "import logging\n"
   ]
  },
  {
   "cell_type": "code",
   "execution_count": 3,
   "id": "2b01ca2f-8d00-4773-8f42-616e2fa4fc9d",
   "metadata": {},
   "outputs": [],
   "source": [
    "flipkart_url=\"https://www.flipkart.com/search?q=\"+'iphone13'#it is base url that give you to go products list"
   ]
  },
  {
   "cell_type": "code",
   "execution_count": 25,
   "id": "bc54b5fa-3e84-4bf9-8520-341918edeb96",
   "metadata": {},
   "outputs": [
    {
     "data": {
      "text/plain": [
       "'https://www.flipkart.com/search?q=iphone13'"
      ]
     },
     "execution_count": 25,
     "metadata": {},
     "output_type": "execute_result"
    }
   ],
   "source": [
    "flipkart_url"
   ]
  },
  {
   "cell_type": "code",
   "execution_count": 4,
   "id": "664d73f4-3a2f-4e09-9c96-ae35e6db6600",
   "metadata": {},
   "outputs": [],
   "source": [
    "urlckient=urlopen(flipkart_url)#it is a url that open auto matic without any click"
   ]
  },
  {
   "cell_type": "code",
   "execution_count": 5,
   "id": "10c402aa-20a1-4150-9766-5670eac920b9",
   "metadata": {},
   "outputs": [],
   "source": [
    "flipkart_mainpage=urlckient.read() #it is the main home page of flipart product that i was want"
   ]
  },
  {
   "cell_type": "code",
   "execution_count": 6,
   "id": "7e287352-e00a-441d-b78b-541d907435b5",
   "metadata": {},
   "outputs": [],
   "source": [
    "flipkart_html=bs(flipkart_mainpage,'html.parser')#it gives some beautifull frame for the data that can readable by human or understanding the data"
   ]
  },
  {
   "cell_type": "code",
   "execution_count": 7,
   "id": "a989788a-4162-473d-95fe-ecafba2c3aa5",
   "metadata": {},
   "outputs": [],
   "source": [
    "product_link=\"https://www.flipkart.com\"+\"/apple-iphone-12-white-64-gb/p/itm8b88bdc03cd79?pid=MOBFWBYZTK33MBG9&lid=LSTMOBFWBYZTK33MBG9ZFJ0HL&marketplace=FLIPKART&q=iphone+12&store=tyy%2F4io&srno=s_1_2&otracker=search&otracker1=search&fm=organic&iid=3f9f4f1a-03a2-4b1f-8221-cee625319b52.MOBFWBYZTK33MBG9.SEARCH&ppt=hp&ppn=homepage&ssid=6jg6wzp0ls0000001695548952872&qH=7b7504afcaf2e1ea\"\n",
    "#it is a product link when clixk it open product that we want "
   ]
  },
  {
   "cell_type": "code",
   "execution_count": 8,
   "id": "0a983a2a-a707-4e9e-b9c8-ef7c1b555e1a",
   "metadata": {},
   "outputs": [],
   "source": [
    "box=flipkart_html.findAll(\"div\",{\"class\":\"_1AtVbE col-12-12\"})#it is a all of product that is present on the flipkart html  page"
   ]
  },
  {
   "cell_type": "code",
   "execution_count": 9,
   "id": "d432c9cd-4956-4057-beb0-a7ba6b6b09df",
   "metadata": {},
   "outputs": [
    {
     "data": {
      "text/plain": [
       "31"
      ]
     },
     "execution_count": 9,
     "metadata": {},
     "output_type": "execute_result"
    }
   ],
   "source": [
    "len(box)#total product link (presented on flpkart page) id is 31 presented "
   ]
  },
  {
   "cell_type": "code",
   "execution_count": 10,
   "id": "ebc72edd-50ea-403c-9dc7-844a802d7ed7",
   "metadata": {},
   "outputs": [],
   "source": [
    "del box[0:3]#it has remove the three tags (like search bar,column etc)(it doing for erase the error when loop is ec]xecute)"
   ]
  },
  {
   "cell_type": "code",
   "execution_count": 11,
   "id": "593c9f15-08c2-4818-a32d-3094a66abb23",
   "metadata": {},
   "outputs": [],
   "source": [
    "product_link=\"https://www.flipkart.com\"+box[3].div.div.div.a['href']#it gives the link of a product that are present on the flipkart site"
   ]
  },
  {
   "cell_type": "code",
   "execution_count": 12,
   "id": "4b7bec4c-d081-4fb2-908b-bdeada1c0934",
   "metadata": {},
   "outputs": [],
   "source": [
    "request_product=requests.get(product_link)#it is used for get the data from the product "
   ]
  },
  {
   "cell_type": "code",
   "execution_count": 13,
   "id": "8d4734b0-48cf-4a57-98cf-facb12f6c3b1",
   "metadata": {},
   "outputs": [
    {
     "data": {
      "text/plain": [
       "'https://www.flipkart.com/apple-iphone-13-blue-128-gb/p/itm6c601e0a58b3c?pid=MOBG6VF5SMXPNQHG&lid=LSTMOBG6VF5SMXPNQHGMMXJDB&marketplace=FLIPKART&q=iphone13&store=tyy%2F4io&srno=s_1_4&otracker=search&fm=organic&iid=88620c23-d4a4-49bd-b94a-d31408c82333.MOBG6VF5SMXPNQHG.SEARCH&ppt=None&ppn=None&ssid=5b4rmm00rk0000001695656700492&qH=7d4afaedfc628b80'"
      ]
     },
     "execution_count": 13,
     "metadata": {},
     "output_type": "execute_result"
    }
   ],
   "source": [
    "product_link"
   ]
  },
  {
   "cell_type": "code",
   "execution_count": 14,
   "id": "45d73b6e-35af-4fb1-adb6-2727a9f8cb71",
   "metadata": {},
   "outputs": [],
   "source": [
    "product_html_pg=bs(request_product.text,'html.parser')#it is usde for readable type for (html)  requr=est link that gives data text format "
   ]
  },
  {
   "cell_type": "code",
   "execution_count": 15,
   "id": "c7ed0901-6bdf-40eb-a54c-16be4f2c8ef8",
   "metadata": {},
   "outputs": [],
   "source": [
    "comments_box=product_html_pg.findAll('div',{\"class\":'_16PBlm'})#box for comments find "
   ]
  },
  {
   "cell_type": "code",
   "execution_count": 16,
   "id": "b594815e-4eba-45fb-97e8-4d5c2dff817b",
   "metadata": {},
   "outputs": [
    {
     "data": {
      "text/plain": [
       "11"
      ]
     },
     "execution_count": 16,
     "metadata": {},
     "output_type": "execute_result"
    }
   ],
   "source": [
    "len(comments_box)"
   ]
  },
  {
   "cell_type": "code",
   "execution_count": 17,
   "id": "88b8843e-8045-4306-8ca6-25362b9892b9",
   "metadata": {},
   "outputs": [
    {
     "name": "stdout",
     "output_type": "stream",
     "text": [
      "Biswajeet Parida\n",
      "Prasenjit Bar\n",
      "Shivang Palyal\n",
      "Flipkart Customer\n",
      "Aman Soni\n",
      "Arnab Das\n",
      "Badri Bishal  Pratihari \n",
      "Srinivash Bhoi\n",
      "Flipkart Customer\n",
      "Aniket Banerjee\n"
     ]
    },
    {
     "ename": "AttributeError",
     "evalue": "'NoneType' object has no attribute 'div'",
     "output_type": "error",
     "traceback": [
      "\u001b[0;31m---------------------------------------------------------------------------\u001b[0m",
      "\u001b[0;31mAttributeError\u001b[0m                            Traceback (most recent call last)",
      "Cell \u001b[0;32mIn[17], line 2\u001b[0m\n\u001b[1;32m      1\u001b[0m \u001b[38;5;28;01mfor\u001b[39;00m i \u001b[38;5;129;01min\u001b[39;00m comments_box:\n\u001b[0;32m----> 2\u001b[0m      \u001b[38;5;28mprint\u001b[39m(\u001b[43mi\u001b[49m\u001b[38;5;241;43m.\u001b[39;49m\u001b[43mdiv\u001b[49m\u001b[38;5;241;43m.\u001b[39;49m\u001b[43mdiv\u001b[49m\u001b[38;5;241m.\u001b[39mfind_all(\u001b[38;5;124m'\u001b[39m\u001b[38;5;124mp\u001b[39m\u001b[38;5;124m'\u001b[39m,{\u001b[38;5;124m\"\u001b[39m\u001b[38;5;124mclass\u001b[39m\u001b[38;5;124m\"\u001b[39m:\u001b[38;5;124m\"\u001b[39m\u001b[38;5;124m_2sc7ZR _2V5EHH\u001b[39m\u001b[38;5;124m\"\u001b[39m})[\u001b[38;5;241m0\u001b[39m]\u001b[38;5;241m.\u001b[39mtext)\u001b[38;5;66;03m#find the name of all customer \u001b[39;00m\n",
      "\u001b[0;31mAttributeError\u001b[0m: 'NoneType' object has no attribute 'div'"
     ]
    }
   ],
   "source": [
    "for i in comments_box:\n",
    "     print(i.div.div.find_all('p',{\"class\":\"_2sc7ZR _2V5EHH\"})[0].text)#find the name of all customer \n",
    "        "
   ]
  },
  {
   "cell_type": "code",
   "execution_count": 18,
   "id": "422a1449-ff0d-4b75-baa6-41147e1a3008",
   "metadata": {},
   "outputs": [
    {
     "data": {
      "text/plain": [
       "'Terrific'"
      ]
     },
     "execution_count": 18,
     "metadata": {},
     "output_type": "execute_result"
    }
   ],
   "source": [
    "comments_box[3].div.div.div.find_all('p',{'class':\"_2-N8zT\"})[0].text#for the  comment "
   ]
  },
  {
   "cell_type": "code",
   "execution_count": 19,
   "id": "83c3563b-3ae6-4f1d-a431-6513a290111b",
   "metadata": {},
   "outputs": [
    {
     "name": "stdout",
     "output_type": "stream",
     "text": [
      "Must buy!\n",
      "Nice product\n",
      "Classy product\n",
      "Terrific\n",
      "Super!\n",
      "Perfect product!\n",
      "Perfect product!\n",
      "Perfect product!\n",
      "Awesome\n",
      "Excellent\n"
     ]
    },
    {
     "ename": "AttributeError",
     "evalue": "'NoneType' object has no attribute 'div'",
     "output_type": "error",
     "traceback": [
      "\u001b[0;31m---------------------------------------------------------------------------\u001b[0m",
      "\u001b[0;31mAttributeError\u001b[0m                            Traceback (most recent call last)",
      "Cell \u001b[0;32mIn[19], line 2\u001b[0m\n\u001b[1;32m      1\u001b[0m \u001b[38;5;28;01mfor\u001b[39;00m i \u001b[38;5;129;01min\u001b[39;00m comments_box:\n\u001b[0;32m----> 2\u001b[0m     \u001b[38;5;28mprint\u001b[39m(\u001b[43mi\u001b[49m\u001b[38;5;241;43m.\u001b[39;49m\u001b[43mdiv\u001b[49m\u001b[38;5;241;43m.\u001b[39;49m\u001b[43mdiv\u001b[49m\u001b[38;5;241m.\u001b[39mdiv\u001b[38;5;241m.\u001b[39mfind_all(\u001b[38;5;124m'\u001b[39m\u001b[38;5;124mp\u001b[39m\u001b[38;5;124m'\u001b[39m,{\u001b[38;5;124m'\u001b[39m\u001b[38;5;124mclass\u001b[39m\u001b[38;5;124m'\u001b[39m:\u001b[38;5;124m\"\u001b[39m\u001b[38;5;124m_2-N8zT\u001b[39m\u001b[38;5;124m\"\u001b[39m})[\u001b[38;5;241m0\u001b[39m]\u001b[38;5;241m.\u001b[39mtext)\u001b[38;5;66;03m#finding the all comments that are present in the produvt\u001b[39;00m\n",
      "\u001b[0;31mAttributeError\u001b[0m: 'NoneType' object has no attribute 'div'"
     ]
    }
   ],
   "source": [
    "for i in comments_box:\n",
    "    print(i.div.div.div.find_all('p',{'class':\"_2-N8zT\"})[0].text)#finding the all comments that are present in the produvt"
   ]
  },
  {
   "cell_type": "code",
   "execution_count": 20,
   "id": "f55489db-eba7-4e7a-9f8a-26a1df5c5df6",
   "metadata": {},
   "outputs": [
    {
     "data": {
      "text/plain": [
       "'5'"
      ]
     },
     "execution_count": 20,
     "metadata": {},
     "output_type": "execute_result"
    }
   ],
   "source": [
    "#finding the rating \n",
    "comments_box[2].div.div.div.div.text"
   ]
  },
  {
   "cell_type": "code",
   "execution_count": 21,
   "id": "ddff3150-9510-4ae2-b7aa-811e20900587",
   "metadata": {},
   "outputs": [
    {
     "name": "stdout",
     "output_type": "stream",
     "text": [
      "5\n",
      "4\n",
      "5\n",
      "5\n",
      "5\n",
      "5\n",
      "5\n",
      "5\n",
      "5\n",
      "5\n"
     ]
    },
    {
     "ename": "AttributeError",
     "evalue": "'NoneType' object has no attribute 'div'",
     "output_type": "error",
     "traceback": [
      "\u001b[0;31m---------------------------------------------------------------------------\u001b[0m",
      "\u001b[0;31mAttributeError\u001b[0m                            Traceback (most recent call last)",
      "Cell \u001b[0;32mIn[21], line 2\u001b[0m\n\u001b[1;32m      1\u001b[0m \u001b[38;5;28;01mfor\u001b[39;00m i \u001b[38;5;129;01min\u001b[39;00m comments_box:\n\u001b[0;32m----> 2\u001b[0m     \u001b[38;5;28mprint\u001b[39m(\u001b[43mi\u001b[49m\u001b[38;5;241;43m.\u001b[39;49m\u001b[43mdiv\u001b[49m\u001b[38;5;241;43m.\u001b[39;49m\u001b[43mdiv\u001b[49m\u001b[38;5;241m.\u001b[39mdiv\u001b[38;5;241m.\u001b[39mdiv\u001b[38;5;241m.\u001b[39mtext)\u001b[38;5;66;03m#all rating are here\u001b[39;00m\n",
      "\u001b[0;31mAttributeError\u001b[0m: 'NoneType' object has no attribute 'div'"
     ]
    }
   ],
   "source": [
    "for i in comments_box:\n",
    "    print(i.div.div.div.div.text)#all rating are here"
   ]
  },
  {
   "cell_type": "code",
   "execution_count": 22,
   "id": "741a484e-836c-4192-af2c-c4060b6a3ee4",
   "metadata": {},
   "outputs": [
    {
     "data": {
      "text/plain": [
       "'4Nice product'"
      ]
     },
     "execution_count": 22,
     "metadata": {},
     "output_type": "execute_result"
    }
   ],
   "source": [
    "comments_box[1].div.div.div.text#find ing the all header "
   ]
  },
  {
   "cell_type": "code",
   "execution_count": 23,
   "id": "c523a4e4-10b8-4c83-82b0-306ec40b0728",
   "metadata": {},
   "outputs": [
    {
     "name": "stdout",
     "output_type": "stream",
     "text": [
      "5Must buy!\n",
      "4Nice product\n",
      "5Classy product\n",
      "5Terrific\n",
      "5Super!\n",
      "5Perfect product!\n",
      "5Perfect product!\n",
      "5Perfect product!\n",
      "5Awesome\n",
      "5Excellent\n"
     ]
    },
    {
     "ename": "AttributeError",
     "evalue": "'NoneType' object has no attribute 'div'",
     "output_type": "error",
     "traceback": [
      "\u001b[0;31m---------------------------------------------------------------------------\u001b[0m",
      "\u001b[0;31mAttributeError\u001b[0m                            Traceback (most recent call last)",
      "Cell \u001b[0;32mIn[23], line 2\u001b[0m\n\u001b[1;32m      1\u001b[0m \u001b[38;5;28;01mfor\u001b[39;00m i \u001b[38;5;129;01min\u001b[39;00m comments_box:\u001b[38;5;66;03m#all comment are present that the point\u001b[39;00m\n\u001b[0;32m----> 2\u001b[0m      \u001b[38;5;28mprint\u001b[39m( \u001b[43mi\u001b[49m\u001b[38;5;241;43m.\u001b[39;49m\u001b[43mdiv\u001b[49m\u001b[38;5;241;43m.\u001b[39;49m\u001b[43mdiv\u001b[49m\u001b[38;5;241m.\u001b[39mdiv\u001b[38;5;241m.\u001b[39mtext)\n",
      "\u001b[0;31mAttributeError\u001b[0m: 'NoneType' object has no attribute 'div'"
     ]
    }
   ],
   "source": [
    "for i in comments_box:#all comment are present that the point\n",
    "     print( i.div.div.div.text)"
   ]
  },
  {
   "cell_type": "code",
   "execution_count": 24,
   "id": "687f2e20-fcf0-44d6-897f-8c28cac09637",
   "metadata": {},
   "outputs": [
    {
     "name": "stdout",
     "output_type": "stream",
     "text": [
      "BEST EVER EXPERIENCE 😍😍\n",
      "Best phone for day to day use and photography/videography.\n",
      "This is awosome .. camera is best . Here some photos i m sharing with you guys ..\n",
      "Happy to have this phone\n",
      "very nice product camera quatily is super good i will switch from android to iphone i have very good experience .\n",
      "Awesome battery backup amazing camera, a all day batter backup  improved and brilliant IOs 16.1 oled display dolby speakers and lot more, just close your eyes and go for it. One of the best handy smartphones ever and in great discount given by flipkart in big billion days 🔥\n",
      "Love this phone..... 😍\n",
      "Pros-rear Camera is awesome.double speaker sound equal loud and base is superb display superb. Design also good.Battery back up superb.Cons-front camera is good not awesomeAfter switching from android you feel one minus point is the display notch .\n",
      "Best of best\n",
      "Too good\n"
     ]
    },
    {
     "ename": "AttributeError",
     "evalue": "'NoneType' object has no attribute 'div'",
     "output_type": "error",
     "traceback": [
      "\u001b[0;31m---------------------------------------------------------------------------\u001b[0m",
      "\u001b[0;31mAttributeError\u001b[0m                            Traceback (most recent call last)",
      "Cell \u001b[0;32mIn[24], line 2\u001b[0m\n\u001b[1;32m      1\u001b[0m \u001b[38;5;28;01mfor\u001b[39;00m i \u001b[38;5;129;01min\u001b[39;00m comments_box:\n\u001b[0;32m----> 2\u001b[0m     \u001b[38;5;28mprint\u001b[39m(\u001b[43mi\u001b[49m\u001b[38;5;241;43m.\u001b[39;49m\u001b[43mdiv\u001b[49m\u001b[38;5;241;43m.\u001b[39;49m\u001b[43mdiv\u001b[49m\u001b[38;5;241m.\u001b[39mfind_all(\u001b[38;5;124m'\u001b[39m\u001b[38;5;124mdiv\u001b[39m\u001b[38;5;124m'\u001b[39m,{\u001b[38;5;124m'\u001b[39m\u001b[38;5;124mclass\u001b[39m\u001b[38;5;124m'\u001b[39m:\u001b[38;5;124m'\u001b[39m\u001b[38;5;124m'\u001b[39m})[\u001b[38;5;241m0\u001b[39m]\u001b[38;5;241m.\u001b[39mdiv\u001b[38;5;241m.\u001b[39mtext)\u001b[38;5;66;03m# for finf=ding the all comment that gives by the people\u001b[39;00m\n",
      "\u001b[0;31mAttributeError\u001b[0m: 'NoneType' object has no attribute 'div'"
     ]
    }
   ],
   "source": [
    "for i in comments_box:\n",
    "    print(i.div.div.find_all('div',{'class':''})[0].div.text)# for finf=ding the all comment that gives by the people"
   ]
  },
  {
   "cell_type": "code",
   "execution_count": null,
   "id": "a6c2a3fd-1b2f-424d-8424-5497adadd558",
   "metadata": {},
   "outputs": [],
   "source": [
    "for i in box:\n",
    "    print(\"https://www.flipkart.com\"+i.div.div.div.a['href'])"
   ]
  },
  {
   "cell_type": "code",
   "execution_count": null,
   "id": "f51206ea-0a76-4941-92d3-527ce3ab38fa",
   "metadata": {},
   "outputs": [],
   "source": []
  }
 ],
 "metadata": {
  "kernelspec": {
   "display_name": "Python 3 (ipykernel)",
   "language": "python",
   "name": "python3"
  },
  "language_info": {
   "codemirror_mode": {
    "name": "ipython",
    "version": 3
   },
   "file_extension": ".py",
   "mimetype": "text/x-python",
   "name": "python",
   "nbconvert_exporter": "python",
   "pygments_lexer": "ipython3",
   "version": "3.10.8"
  }
 },
 "nbformat": 4,
 "nbformat_minor": 5
}
